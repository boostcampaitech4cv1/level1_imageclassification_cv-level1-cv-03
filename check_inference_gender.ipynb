{
 "cells": [
  {
   "cell_type": "code",
   "execution_count": null,
   "id": "3e3e9b8d",
   "metadata": {
    "ExecuteTime": {
     "end_time": "2022-10-27T02:50:15.926492Z",
     "start_time": "2022-10-27T02:50:15.920651Z"
    }
   },
   "outputs": [],
   "source": [
    "import pandas as pd\n",
    "import matplotlib.pyplot as plt\n",
    "import random"
   ]
  },
  {
   "cell_type": "code",
   "execution_count": null,
   "id": "8c3a76f1",
   "metadata": {
    "ExecuteTime": {
     "end_time": "2022-10-27T02:50:16.102506Z",
     "start_time": "2022-10-27T02:50:16.099586Z"
    }
   },
   "outputs": [],
   "source": [
    "img_dir_path = '/opt/ml/input/data/eval/images/'"
   ]
  },
  {
   "cell_type": "code",
   "execution_count": null,
   "id": "b7e5ac7d",
   "metadata": {
    "ExecuteTime": {
     "end_time": "2022-10-27T02:50:16.290100Z",
     "start_time": "2022-10-27T02:50:16.273554Z"
    }
   },
   "outputs": [],
   "source": [
    "file_name = 'output_gender'\n",
    "df = pd.read_csv(f'./output_gender/{file_name}.csv')\n",
    "df.head()"
   ]
  },
  {
   "cell_type": "code",
   "execution_count": null,
   "id": "c8a1f41f",
   "metadata": {},
   "outputs": [],
   "source": [
    "gender = 1    # ~30 : 0  //  30~60 : 1  //  60~ : 2 \n",
    "check_stat = ['~30', '30~60', '60~']\n",
    "num_imgs=10\n",
    "img_info = df[df['ans']==gender].sample(num_imgs)\n",
    "file_names = img_info['ImageID'].tolist()\n",
    "imgs=[]\n",
    "for file_name in file_names:\n",
    "    imgs.append(plt.imread(img_dir_path + file_name))\n",
    "col = 4\n",
    "row = num_imgs // (col-1)\n",
    "\n",
    "fig = plt.figure(figsize=(25, row*5))\n",
    "plt.title(check_stat[gender]], fontsize=40)\n",
    "plt.axis('off')\n",
    "for i in range(num_imgs):\n",
    "    ax = fig.add_subplot(row, col+1, i+1)\n",
    "    plt.axis('off')\n",
    "    ax.imshow(imgs[i])\n",
    "plt.show()"
   ]
  },
  {
   "cell_type": "code",
   "execution_count": 5,
   "id": "d8ff5acd",
   "metadata": {},
   "outputs": [
    {
     "name": "stdout",
     "output_type": "stream",
     "text": [
      "5351 6057 1192\n"
     ]
    }
   ],
   "source": [
    "print(len(df[df['ans']==0]), len(df[df['ans']==1]), len(df[df['ans']==2]))"
   ]
  }
 ],
 "metadata": {
  "kernelspec": {
   "display_name": "Python 3.9.9 64-bit",
   "language": "python",
   "name": "python3"
  },
  "language_info": {
   "codemirror_mode": {
    "name": "ipython",
    "version": 3
   },
   "file_extension": ".py",
   "mimetype": "text/x-python",
   "name": "python",
   "nbconvert_exporter": "python",
   "pygments_lexer": "ipython3",
   "version": "3.9.9"
  },
  "varInspector": {
   "cols": {
    "lenName": 16,
    "lenType": 16,
    "lenVar": 40
   },
   "kernels_config": {
    "python": {
     "delete_cmd_postfix": "",
     "delete_cmd_prefix": "del ",
     "library": "var_list.py",
     "varRefreshCmd": "print(var_dic_list())"
    },
    "r": {
     "delete_cmd_postfix": ") ",
     "delete_cmd_prefix": "rm(",
     "library": "var_list.r",
     "varRefreshCmd": "cat(var_dic_list()) "
    }
   },
   "types_to_exclude": [
    "module",
    "function",
    "builtin_function_or_method",
    "instance",
    "_Feature"
   ],
   "window_display": false
  },
  "vscode": {
   "interpreter": {
    "hash": "14958d3aee5f1cad06795f787e54b96185c25fb40dfec723a5be941f3a531b8c"
   }
  }
 },
 "nbformat": 4,
 "nbformat_minor": 5
}
